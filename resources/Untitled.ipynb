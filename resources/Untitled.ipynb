{
 "cells": [
  {
   "cell_type": "code",
   "execution_count": 32,
   "id": "d1da2d2f",
   "metadata": {},
   "outputs": [],
   "source": [
    "import requests\n",
    "import json"
   ]
  },
  {
   "cell_type": "code",
   "execution_count": 2,
   "id": "82b628bf",
   "metadata": {},
   "outputs": [],
   "source": [
    "def findLeagueId(url):\n",
    "    try:\n",
    "        data = requests.get(url).text\n",
    "        start = data.index(\"LeagueId\")\n",
    "        subtxt = data[start:start + 100]\n",
    "        for i in range(len(subtxt)):\n",
    "            if '''\"''' == subtxt[i]:\n",
    "                end = i\n",
    "        return subtxt[:end]\n",
    "    except:\n",
    "        return"
   ]
  },
  {
   "cell_type": "code",
   "execution_count": 25,
   "id": "17274bd5",
   "metadata": {},
   "outputs": [],
   "source": [
    "dic = {}\n",
    "sections = {'QCA-SLSJ': 'index.php', 'Centre-du-Québec': 'resultats-cq.php', 'Section A': 'index.php', 'Section B': 'resultats-2.php'}\n",
    "sex = {'Masculin': 'm', 'Féminin':'f'}\n",
    "cat = {'Cadet': 'cad', 'Benjamin': 'benj', 'Juvénile': 'juv'}\n",
    "ecole = ['scolaire', 'collegial']\n",
    "reg = {'Nord-Est': 'ne', 'Sud-Ouest': 'so'}\n",
    "rank = {'Division 1': 'd1', 'Division 2': 'd2', 'Division 3': 'd3'}"
   ]
  },
  {
   "cell_type": "code",
   "execution_count": 23,
   "id": "f76085af",
   "metadata": {},
   "outputs": [],
   "source": [
    "categories_hs = {}\n",
    "for i in cat:\n",
    "    sexes = {}\n",
    "    for s in sex:\n",
    "        div = {}\n",
    "        for d in rank:\n",
    "            url = f\"http://www.rseq-stats.ca/scolaire/basketball-{cat[i]}-{sex[s]}-{rank[d]}/\"\n",
    "            leagueId = findLeagueId(url)\n",
    "            if leagueId != None:\n",
    "                div[d] = leagueId\n",
    "        sexes[s] = div\n",
    "    categories_hs[i] = sexes"
   ]
  },
  {
   "cell_type": "code",
   "execution_count": 24,
   "id": "828d94a9",
   "metadata": {},
   "outputs": [
    {
     "data": {
      "text/plain": [
       "{'Cadet': {'Masculin': {'Division 1': 'LeagueId=a1243cc2-ed85-42a8-9150-695f661d504c',\n",
       "   'Division 2': 'LeagueId=721ef6fb-89c0-44ff-953b-80365d270894'},\n",
       "  'Féminin': {'Division 1': 'LeagueId=a3820227-5326-450a-b3df-776c13f0f243',\n",
       "   'Division 2': 'LeagueId=652999bd-6509-430d-9f06-6d01914fa2c6'}},\n",
       " 'Benjamin': {'Masculin': {'Division 2': 'LeagueId=1228aaab-d166-49be-9d30-f03cbbc617b7'},\n",
       "  'Féminin': {'Division 2': 'LeagueId=cc5a57c1-bce7-4540-9f46-67d7938bb557'}},\n",
       " 'Juvénile': {'Masculin': {'Division 1': 'LeagueId=9fa48ac7-e255-46b8-9052-86deb0bb599e',\n",
       "   'Division 2': 'LeagueId=1c08eb63-a8d5-469c-b36e-7665d800dffd'},\n",
       "  'Féminin': {'Division 1': 'LeagueId=f3fea018-6b2d-4d46-9af3-cd08478261e0',\n",
       "   'Division 2': 'LeagueId=3540d779-ef51-4d17-8a6c-995b04d0efab'}}}"
      ]
     },
     "execution_count": 24,
     "metadata": {},
     "output_type": "execute_result"
    }
   ],
   "source": [
    "categories_hs"
   ]
  },
  {
   "cell_type": "code",
   "execution_count": 30,
   "id": "572d288b",
   "metadata": {},
   "outputs": [],
   "source": [
    "categories_co = {}\n",
    "for s in sex:\n",
    "    div = {}\n",
    "    for d in rank:\n",
    "        if d == 'Division 1':\n",
    "            url = f\"http://www.rseq-stats.ca/collegial/basketball-{sex[s]}-d1/\"\n",
    "            leagueId = findLeagueId(url)\n",
    "            if leagueId != None:\n",
    "                div[d] = leagueId\n",
    "                continue\n",
    "        else:\n",
    "            regions = {}\n",
    "            for r in reg:\n",
    "                g_sec = {}\n",
    "                for subsec in sections:\n",
    "                    url = f\"http://www.rseq-stats.ca/collegial/{reg[r]}/basketball-{sex[s]}-{rank[d]}/{sections[subsec]}\"\n",
    "                    leagueId = findLeagueId(url)\n",
    "                    if leagueId != None:\n",
    "                        g_sec[subsec] = leagueId\n",
    "                regions[r] = g_sec\n",
    "        div[d] = regions\n",
    "    categories_co[s] = div"
   ]
  },
  {
   "cell_type": "code",
   "execution_count": 31,
   "id": "8d004d01",
   "metadata": {},
   "outputs": [
    {
     "data": {
      "text/plain": [
       "{'Masculin': {'Division 1': 'LeagueId=d8117f6e-b06d-443a-962c-b8e84cb9b873',\n",
       "  'Division 2': {'Nord-Est': {'QCA-SLSJ': 'LeagueId=6b649ab7-7fba-48c2-8d32-3d4113c9d306',\n",
       "    'Centre-du-Québec': 'LeagueId=d4fd8497-29b9-4caf-ac89-63917211d20b',\n",
       "    'Section A': 'LeagueId=6b649ab7-7fba-48c2-8d32-3d4113c9d306'},\n",
       "   'Sud-Ouest': {'QCA-SLSJ': 'LeagueId=cd04e818-bf2a-4339-bf93-41fb491c96d1',\n",
       "    'Section A': 'LeagueId=cd04e818-bf2a-4339-bf93-41fb491c96d1',\n",
       "    'Section B': 'LeagueId=c56502f5-8c90-4ed6-891a-aaaae2d87b77'}},\n",
       "  'Division 3': {'Nord-Est': {'QCA-SLSJ': 'LeagueId=71531051-cd45-4687-853b-ee63e96e66d4',\n",
       "    'Section A': 'LeagueId=71531051-cd45-4687-853b-ee63e96e66d4',\n",
       "    'Section B': 'LeagueId=1e0bce16-d890-44e6-8eb8-dbf9b067fa85'},\n",
       "   'Sud-Ouest': {'QCA-SLSJ': 'LeagueId=xxx', 'Section A': 'LeagueId=xxx'}}},\n",
       " 'Féminin': {'Division 1': 'LeagueId=e01429fa-753a-4a31-a60a-9c3bb4fc22bd',\n",
       "  'Division 2': {'Nord-Est': {'QCA-SLSJ': 'LeagueId=0524354a-214f-4b66-8249-566162c06ec1',\n",
       "    'Centre-du-Québec': 'LeagueId=4d8e5c4f-d411-43b8-acc3-ceb38d824ebf',\n",
       "    'Section A': 'LeagueId=0524354a-214f-4b66-8249-566162c06ec1'},\n",
       "   'Sud-Ouest': {'QCA-SLSJ': 'LeagueId=eccda0d8-a1ff-4a33-b566-225151ecf710',\n",
       "    'Section A': 'LeagueId=eccda0d8-a1ff-4a33-b566-225151ecf710',\n",
       "    'Section B': 'LeagueId=4288c03a-5a13-42e2-badd-f1be6d2dead7'}},\n",
       "  'Division 3': {'Nord-Est': {'QCA-SLSJ': 'LeagueId=240b4685-6007-4e8c-8355-ed8fe5ad8b9e',\n",
       "    'Section A': 'LeagueId=240b4685-6007-4e8c-8355-ed8fe5ad8b9e'},\n",
       "   'Sud-Ouest': {}}}}"
      ]
     },
     "execution_count": 31,
     "metadata": {},
     "output_type": "execute_result"
    }
   ],
   "source": [
    "categories_co"
   ]
  },
  {
   "cell_type": "code",
   "execution_count": 34,
   "id": "0c4e6e3c",
   "metadata": {},
   "outputs": [],
   "source": [
    "dic['Secondaire'] = categories_hs\n",
    "dic['Collégial'] = categories_co"
   ]
  },
  {
   "cell_type": "code",
   "execution_count": 38,
   "id": "c0a60121",
   "metadata": {},
   "outputs": [],
   "source": [
    "with open(\"league_id.json\", \"w\") as r:\n",
    "    json.dump(dic, r)"
   ]
  },
  {
   "cell_type": "code",
   "execution_count": null,
   "id": "24da8970",
   "metadata": {},
   "outputs": [],
   "source": []
  }
 ],
 "metadata": {
  "kernelspec": {
   "display_name": "Python 3 (ipykernel)",
   "language": "python",
   "name": "python3"
  },
  "language_info": {
   "codemirror_mode": {
    "name": "ipython",
    "version": 3
   },
   "file_extension": ".py",
   "mimetype": "text/x-python",
   "name": "python",
   "nbconvert_exporter": "python",
   "pygments_lexer": "ipython3",
   "version": "3.11.0"
  }
 },
 "nbformat": 4,
 "nbformat_minor": 5
}
